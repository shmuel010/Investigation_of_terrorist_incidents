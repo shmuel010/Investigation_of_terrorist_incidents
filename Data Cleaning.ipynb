{
 "cells": [
  {
   "cell_type": "markdown",
   "metadata": {},
   "source": [
    "\n",
    "# Step  #2: Data Cleaning\n",
    "## Taking care of missing entries or columns with no numeric data"
   ]
  },
  {
   "cell_type": "markdown",
   "metadata": {},
   "source": [
    "## About this step\n",
    "In this step,  I'll look at the data, detect, and deal with it while concentrating on:\n",
    "\n",
    "* Data that is duplicated\n",
    "* Data that has gone missing\n",
    "* Casting of data types"
   ]
  },
  {
   "cell_type": "markdown",
   "metadata": {},
   "source": [
    "### import modules (packages)"
   ]
  },
  {
   "cell_type": "code",
   "execution_count": 1,
   "metadata": {},
   "outputs": [],
   "source": [
    "import pandas as pd\n",
    "import numpy as np\n",
    "import matplotlib.pyplot as plt\n",
    "import seaborn as sns\n",
    "from datetime import datetime\n",
    "%matplotlib inline"
   ]
  },
  {
   "cell_type": "markdown",
   "metadata": {},
   "source": [
    "### Load the Data of Terrorism dataset"
   ]
  },
  {
   "cell_type": "code",
   "execution_count": 2,
   "metadata": {},
   "outputs": [],
   "source": [
    "df = pd.read_csv('data_of_terrorism.csv')\n",
    "df.drop('Unnamed: 0', inplace=True, axis=1)\n",
    "\n"
   ]
  },
  {
   "cell_type": "code",
   "execution_count": 3,
   "metadata": {},
   "outputs": [
    {
     "name": "stdout",
     "output_type": "stream",
     "text": [
      "<class 'pandas.core.frame.DataFrame'>\n",
      "RangeIndex: 30000 entries, 0 to 29999\n",
      "Data columns (total 30 columns):\n",
      "CITY                                         30000 non-null object\n",
      "COUNTRY                                      30000 non-null object\n",
      "Claimed Responsibility                       30000 non-null object\n",
      "DATE                                         30000 non-null object\n",
      "FATALITIES                                   30000 non-null object\n",
      "Group Name of Perpetrator Group              30000 non-null object\n",
      "Group Sub Name of Perpetrator Group          30000 non-null object\n",
      "Hostages                                     30000 non-null object\n",
      "INJURED                                      30000 non-null object\n",
      "LOCATION DETAILS                             30000 non-null object\n",
      "Name of Entity                               30000 non-null object\n",
      "Nationality of Target                        30000 non-null object\n",
      "Number of Perpetrator Fatalities             30000 non-null object\n",
      "Number of Perpetrators                       30000 non-null object\n",
      "PERPETRATOR GROUP                            30000 non-null object\n",
      "PROVINCE/ADMINISTRATIVE REGION/U.S. STATE    30000 non-null object\n",
      "Property Damage                              30000 non-null object\n",
      "Ransom                                       30000 non-null object\n",
      "Region                                       30000 non-null object\n",
      "Specific Description                         30000 non-null object\n",
      "Successful Attack?                           30000 non-null object\n",
      "Suicide_Attack                               30000 non-null object\n",
      "TARGET TYPE                                  30000 non-null object\n",
      "Total Number of Fatalities                   30000 non-null object\n",
      "Total Number of Injured                      30000 non-null object\n",
      "Type of Attack                               30000 non-null object\n",
      "Weapon Sub_type                              30000 non-null object\n",
      "Weapon Type                                  30000 non-null object\n",
      "latitude                                     30000 non-null float64\n",
      "longitude                                    30000 non-null float64\n",
      "dtypes: float64(2), object(28)\n",
      "memory usage: 6.9+ MB\n"
     ]
    }
   ],
   "source": [
    "df.info()"
   ]
  },
  {
   "cell_type": "markdown",
   "metadata": {},
   "source": [
    "#### Now I'll convert the 'Unknown' values to np.nan "
   ]
  },
  {
   "cell_type": "code",
   "execution_count": 4,
   "metadata": {},
   "outputs": [],
   "source": [
    "df = df.replace('Unknown', np.nan)"
   ]
  },
  {
   "cell_type": "markdown",
   "metadata": {},
   "source": [
    "    You can now identify which columns have data missing."
   ]
  },
  {
   "cell_type": "code",
   "execution_count": 5,
   "metadata": {},
   "outputs": [
    {
     "name": "stdout",
     "output_type": "stream",
     "text": [
      "<class 'pandas.core.frame.DataFrame'>\n",
      "RangeIndex: 30000 entries, 0 to 29999\n",
      "Data columns (total 30 columns):\n",
      "CITY                                         28173 non-null object\n",
      "COUNTRY                                      30000 non-null object\n",
      "Claimed Responsibility                       30000 non-null object\n",
      "DATE                                         30000 non-null object\n",
      "FATALITIES                                   27985 non-null object\n",
      "Group Name of Perpetrator Group              15252 non-null object\n",
      "Group Sub Name of Perpetrator Group          1261 non-null object\n",
      "Hostages                                     29963 non-null object\n",
      "INJURED                                      27017 non-null object\n",
      "LOCATION DETAILS                             13435 non-null object\n",
      "Name of Entity                               23581 non-null object\n",
      "Nationality of Target                        29847 non-null object\n",
      "Number of Perpetrator Fatalities             29275 non-null object\n",
      "Number of Perpetrators                       3620 non-null object\n",
      "PERPETRATOR GROUP                            15252 non-null object\n",
      "PROVINCE/ADMINISTRATIVE REGION/U.S. STATE    29797 non-null object\n",
      "Property Damage                              22331 non-null object\n",
      "Ransom                                       29928 non-null object\n",
      "Region                                       30000 non-null object\n",
      "Specific Description                         27872 non-null object\n",
      "Successful Attack?                           30000 non-null object\n",
      "Suicide_Attack                               30000 non-null object\n",
      "TARGET TYPE                                  27872 non-null object\n",
      "Total Number of Fatalities                   27985 non-null object\n",
      "Total Number of Injured                      27017 non-null object\n",
      "Type of Attack                               27966 non-null object\n",
      "Weapon Sub_type                              26473 non-null object\n",
      "Weapon Type                                  26605 non-null object\n",
      "latitude                                     30000 non-null float64\n",
      "longitude                                    30000 non-null float64\n",
      "dtypes: float64(2), object(28)\n",
      "memory usage: 6.9+ MB\n"
     ]
    }
   ],
   "source": [
    "df.info()"
   ]
  },
  {
   "cell_type": "markdown",
   "metadata": {},
   "source": [
    "#### I'll now see whether there are any duplicate rows, and if there are, I'll remove them."
   ]
  },
  {
   "cell_type": "code",
   "execution_count": 6,
   "metadata": {},
   "outputs": [
    {
     "name": "stdout",
     "output_type": "stream",
     "text": [
      "Inside the data table there are 1386 duplicates\n"
     ]
    }
   ],
   "source": [
    "print(\"Inside the data table there are\", df.duplicated().sum() ,\"duplicates\")"
   ]
  },
  {
   "cell_type": "code",
   "execution_count": 7,
   "metadata": {},
   "outputs": [],
   "source": [
    "df = df.drop_duplicates().reset_index(drop=True).copy()"
   ]
  },
  {
   "cell_type": "code",
   "execution_count": 8,
   "metadata": {},
   "outputs": [
    {
     "data": {
      "text/plain": [
       "(28614, 30)"
      ]
     },
     "execution_count": 8,
     "metadata": {},
     "output_type": "execute_result"
    }
   ],
   "source": [
    "df.shape"
   ]
  },
  {
   "cell_type": "markdown",
   "metadata": {},
   "source": [
    "### Check the amount of missing values in each column"
   ]
  },
  {
   "cell_type": "code",
   "execution_count": 9,
   "metadata": {},
   "outputs": [
    {
     "name": "stdout",
     "output_type": "stream",
     "text": [
      "in column CITY there are 6.060% missing values\n",
      "in column COUNTRY there are 0.000% missing values\n",
      "in column Claimed Responsibility there are 0.000% missing values\n",
      "in column DATE there are 0.000% missing values\n",
      "in column FATALITIES there are 6.790% missing values\n",
      "in column Group Name of Perpetrator Group there are 48.948% missing values\n",
      "in column Group Sub Name of Perpetrator Group there are 95.645% missing values\n",
      "in column Hostages there are 0.101% missing values\n",
      "in column INJURED there are 10.128% missing values\n",
      "in column LOCATION DETAILS there are 54.033% missing values\n",
      "in column Name of Entity there are 20.619% missing values\n",
      "in column Nationality of Target there are 0.531% missing values\n",
      "in column Number of Perpetrator Fatalities there are 2.523% missing values\n",
      "in column Number of Perpetrators there are 87.471% missing values\n",
      "in column PERPETRATOR GROUP there are 48.948% missing values\n",
      "in column PROVINCE/ADMINISTRATIVE REGION/U.S. STATE there are 0.706% missing values\n",
      "in column Property Damage there are 26.518% missing values\n",
      "in column Ransom there are 0.252% missing values\n",
      "in column Region there are 0.000% missing values\n",
      "in column Specific Description there are 6.193% missing values\n",
      "in column Successful Attack? there are 0.000% missing values\n",
      "in column Suicide_Attack there are 0.000% missing values\n",
      "in column TARGET TYPE there are 6.193% missing values\n",
      "in column Total Number of Fatalities there are 6.790% missing values\n",
      "in column Total Number of Injured there are 10.128% missing values\n",
      "in column Type of Attack there are 6.958% missing values\n",
      "in column Weapon Sub_type there are 11.984% missing values\n",
      "in column Weapon Type there are 11.536% missing values\n",
      "in column latitude there are 0.000% missing values\n",
      "in column longitude there are 0.000% missing values\n"
     ]
    }
   ],
   "source": [
    "for c in df.columns:\n",
    "    missing = df[c].isna().sum()\n",
    "    print(\"in column {} there are {:.3f}% missing values\".format(c, missing*100/len(df)))"
   ]
  },
  {
   "cell_type": "markdown",
   "metadata": {},
   "source": [
    "### Create dictionary of terrorist cities"
   ]
  },
  {
   "cell_type": "markdown",
   "metadata": {},
   "source": [
    "    To complete the CITY column, I'll utilize the COUNTRY column. First, I'll construct a dictionary that will provide each nation a city where a terrorist incident occurred. Then, with the use of this dictionary, I'll fill in the missing cities."
   ]
  },
  {
   "cell_type": "code",
   "execution_count": 10,
   "metadata": {},
   "outputs": [
    {
     "data": {
      "text/plain": [
       "{'Algeria': 'Bordj Menaiel',\n",
       " 'Bahrain': 'Demistan',\n",
       " 'Egypt': 'Arish',\n",
       " 'Iran': 'Zabol',\n",
       " 'Iraq': 'Mosul',\n",
       " 'Israel': 'Afula',\n",
       " 'Jordan': 'Maan',\n",
       " 'Kuwait': 'Kuwait',\n",
       " 'Lebanon': 'Jlala',\n",
       " 'Libya': 'Benghazi',\n",
       " 'Morocco': 'Casablanca',\n",
       " 'Qatar': 'Doha',\n",
       " 'Saudi Arabia': 'Hafr al-Batin',\n",
       " 'Syria': 'Damascus',\n",
       " 'Tunisia': 'Sousse',\n",
       " 'Turkey': 'Cizre',\n",
       " 'United Arab Emirates': 'Abu Dhabi',\n",
       " 'West Bank and Gaza Strip': 'Huwwara',\n",
       " 'Western Sahara': 'Tifariti',\n",
       " 'Yemen': 'Ahwar'}"
      ]
     },
     "execution_count": 10,
     "metadata": {},
     "output_type": "execute_result"
    }
   ],
   "source": [
    "Terrorist_cities = dict()\n",
    "for row in range(df.shape[0]):\n",
    "    if (type(df.CITY[row]) ==  type(\"string\")):                                    #   df.CITY[row] != np.nan\n",
    "        Terrorist_cities.update({df.COUNTRY[row] : df.CITY[row]})\n",
    "Terrorist_cities\n",
    "        \n"
   ]
  },
  {
   "cell_type": "code",
   "execution_count": 11,
   "metadata": {},
   "outputs": [],
   "source": [
    "for row in range(df.shape[0]):\n",
    "    if (type(df.CITY[row]) !=  type(\"string\")):                                       #   df.CITY[row] == np.nan\n",
    "        df.CITY[row] = Terrorist_cities[df.COUNTRY[row]]\n"
   ]
  },
  {
   "cell_type": "markdown",
   "metadata": {},
   "source": [
    "    Columns with a significant absence of data will be removed from the table."
   ]
  },
  {
   "cell_type": "code",
   "execution_count": 12,
   "metadata": {},
   "outputs": [],
   "source": [
    "df =df.drop(columns=['Total Number of Fatalities','Total Number of Injured','Number of Perpetrators',\"Group Sub Name of Perpetrator Group\"])\n"
   ]
  },
  {
   "cell_type": "markdown",
   "metadata": {},
   "source": [
    "    I'm having to create a dictionary to convert columns with only \"yes\" and \"no\" values to binary values."
   ]
  },
  {
   "cell_type": "code",
   "execution_count": 13,
   "metadata": {},
   "outputs": [],
   "source": [
    "replace_map = {'No':0, 'Yes':1}"
   ]
  },
  {
   "cell_type": "markdown",
   "metadata": {},
   "source": [
    "    Now I'll use the dictionary I created to convert data in columns containing \"yes\" and \"no\" values to binary values, \n",
    "    and then fill in the blanks with the most common value."
   ]
  },
  {
   "cell_type": "code",
   "execution_count": 14,
   "metadata": {},
   "outputs": [],
   "source": [
    "df.Hostages.replace(replace_map,inplace = True)"
   ]
  },
  {
   "cell_type": "code",
   "execution_count": 15,
   "metadata": {},
   "outputs": [],
   "source": [
    "df.Hostages = df.Hostages.fillna(df.Hostages.mode()[0])"
   ]
  },
  {
   "cell_type": "code",
   "execution_count": 16,
   "metadata": {},
   "outputs": [],
   "source": [
    "df.Ransom.replace(replace_map,inplace = True)"
   ]
  },
  {
   "cell_type": "code",
   "execution_count": 17,
   "metadata": {},
   "outputs": [],
   "source": [
    "df.Ransom = df.Ransom.fillna(df.Ransom.mode()[0])"
   ]
  },
  {
   "cell_type": "code",
   "execution_count": 18,
   "metadata": {},
   "outputs": [],
   "source": [
    "df[\"Property Damage\"].replace(replace_map,inplace = True)"
   ]
  },
  {
   "cell_type": "code",
   "execution_count": 19,
   "metadata": {},
   "outputs": [],
   "source": [
    "df[\"Property Damage\"] = df[\"Property Damage\"].fillna(df[\"Property Damage\"].mode()[0])"
   ]
  },
  {
   "cell_type": "code",
   "execution_count": 20,
   "metadata": {},
   "outputs": [],
   "source": [
    "df[\"Successful Attack?\"].replace(replace_map,inplace = True)"
   ]
  },
  {
   "cell_type": "code",
   "execution_count": 21,
   "metadata": {},
   "outputs": [],
   "source": [
    "df[\"Suicide_Attack\"].replace(replace_map,inplace = True)"
   ]
  },
  {
   "cell_type": "markdown",
   "metadata": {},
   "source": [
    "    I'll use the median number to fill in the blanks in columns with continuous values."
   ]
  },
  {
   "cell_type": "code",
   "execution_count": 22,
   "metadata": {},
   "outputs": [],
   "source": [
    "df.FATALITIES = df.FATALITIES.fillna(df.FATALITIES.median())"
   ]
  },
  {
   "cell_type": "code",
   "execution_count": 23,
   "metadata": {},
   "outputs": [],
   "source": [
    "df.INJURED  = df.INJURED.fillna(df.INJURED.median())"
   ]
  },
  {
   "cell_type": "code",
   "execution_count": 24,
   "metadata": {},
   "outputs": [],
   "source": [
    "df['Number of Perpetrator Fatalities'] = df['Number of Perpetrator Fatalities'].fillna(df['Number of Perpetrator Fatalities'].median())"
   ]
  },
  {
   "cell_type": "markdown",
   "metadata": {},
   "source": [
    "    Now I'll double-check that all of the numbers in the column are integers."
   ]
  },
  {
   "cell_type": "code",
   "execution_count": 25,
   "metadata": {},
   "outputs": [],
   "source": [
    " df['FATALITIES'] = df['FATALITIES'].astype(int)"
   ]
  },
  {
   "cell_type": "code",
   "execution_count": 26,
   "metadata": {},
   "outputs": [],
   "source": [
    " df['INJURED'] = df['INJURED'].astype(int)"
   ]
  },
  {
   "cell_type": "code",
   "execution_count": 27,
   "metadata": {},
   "outputs": [],
   "source": [
    " df['Number of Perpetrator Fatalities'] = df['Number of Perpetrator Fatalities'].astype(int)"
   ]
  },
  {
   "cell_type": "markdown",
   "metadata": {},
   "source": [
    "    I'll fill in the missing data in the most common value in columns that include strings."
   ]
  },
  {
   "cell_type": "code",
   "execution_count": 28,
   "metadata": {},
   "outputs": [],
   "source": [
    "df[\"TARGET TYPE\"] = df[\"TARGET TYPE\"].fillna(df[\"TARGET TYPE\"].mode()[0])"
   ]
  },
  {
   "cell_type": "code",
   "execution_count": 29,
   "metadata": {},
   "outputs": [],
   "source": [
    "df[\"Specific Description\"] = df[\"Specific Description\"].fillna(df[\"Specific Description\"].mode()[0])"
   ]
  },
  {
   "cell_type": "code",
   "execution_count": 30,
   "metadata": {},
   "outputs": [],
   "source": [
    "df[\"Name of Entity\"] = df[\"Name of Entity\"].fillna(df[\"Name of Entity\"].mode()[0])"
   ]
  },
  {
   "cell_type": "code",
   "execution_count": 31,
   "metadata": {},
   "outputs": [],
   "source": [
    "df[\"Type of Attack\"] = df[\"Type of Attack\"].fillna(df[\"Type of Attack\"].mode()[0])"
   ]
  },
  {
   "cell_type": "code",
   "execution_count": 32,
   "metadata": {},
   "outputs": [],
   "source": [
    "df[\"Weapon Sub_type\"] = df[\"Weapon Sub_type\"].fillna(df[\"Weapon Sub_type\"].mode()[0])"
   ]
  },
  {
   "cell_type": "code",
   "execution_count": 33,
   "metadata": {},
   "outputs": [],
   "source": [
    "df[\"Weapon Type\"] = df[\"Weapon Type\"].fillna(df[\"Weapon Type\"].mode()[0])"
   ]
  },
  {
   "cell_type": "markdown",
   "metadata": {},
   "source": [
    "    I'll fill in the missing data in the Objectives column in the nation where the terrorist attack occurred."
   ]
  },
  {
   "cell_type": "code",
   "execution_count": 34,
   "metadata": {},
   "outputs": [],
   "source": [
    "for row in range(df.shape[0]):\n",
    "    if ( type(df[\"Nationality of Target\"][row]) != type(\"string\")):                                       #   df[\"Nationality of Target\"][row] == np.nan\n",
    "        df[\"Nationality of Target\"][row] = df.COUNTRY[row]\n"
   ]
  },
  {
   "cell_type": "markdown",
   "metadata": {},
   "source": [
    "    I'll generate a unique dictionary for each column that contains strings, converting each string to a unique numeric value."
   ]
  },
  {
   "cell_type": "code",
   "execution_count": 35,
   "metadata": {},
   "outputs": [],
   "source": [
    "replace_of_Claimed_Responsibility = {'No':0,  'Yes (Confirmed: Unknown; Mode: Video)':1 ,'Yes (Confirmed: Unknown; Mode: E-mail)':2, 'Yes (Confirmed: Unknown; Mode: Posted to website, blog, etc.)':3, 'Yes (Confirmed: Unknown; Mode: Unknown)':4, 'Yes (Confirmed: Unknown; Mode: Personal claim)':5, 'Yes (Confirmed: Unknown; Mode: Note left at scene)':6, 'Yes (Confirmed: Unknown; Mode: Call (pre-incident))':7, 'Yes (Confirmed: Unknown; Mode: Call (post-incident))':8, 'Yes (Confirmed: Unknown; Mode: Other)':9}"
   ]
  },
  {
   "cell_type": "code",
   "execution_count": 36,
   "metadata": {},
   "outputs": [],
   "source": [
    "df[\"Claimed Responsibility\"].replace(replace_of_Claimed_Responsibility,inplace = True)"
   ]
  },
  {
   "cell_type": "code",
   "execution_count": 37,
   "metadata": {},
   "outputs": [],
   "source": [
    "for row in range(df.shape[0]):\n",
    "    if ( type(df[\"PROVINCE/ADMINISTRATIVE REGION/U.S. STATE\"][row]) != type(\"string\")):                                       #   df[\"Nationality of Target\"][row] == np.nan\n",
    "        df[\"PROVINCE/ADMINISTRATIVE REGION/U.S. STATE\"][row] = df.COUNTRY[row]\n"
   ]
  },
  {
   "cell_type": "code",
   "execution_count": 38,
   "metadata": {},
   "outputs": [
    {
     "name": "stdout",
     "output_type": "stream",
     "text": [
      "Bombing/Explosion  ==  0\n",
      "Facility/Infrastructure Attack  ==  1\n",
      "Armed Assault  ==  2\n",
      "Hostage Taking (Kidnapping)  ==  3\n",
      "Assassination  ==  4\n",
      "Hostage Taking (Barricade Incident)  ==  5\n",
      "Hijacking  ==  6\n",
      "Unarmed Assault  ==  7\n"
     ]
    }
   ],
   "source": [
    "dict_of_Type_of_Attack = dict()\n",
    "for i in range(len(df['Type of Attack'].unique())):\n",
    "    dict_of_Type_of_Attack[df['Type of Attack'].unique()[i]] = i\n",
    "    print(df['Type of Attack'].unique()[i], \" == \", i)\n"
   ]
  },
  {
   "cell_type": "code",
   "execution_count": 39,
   "metadata": {},
   "outputs": [],
   "source": [
    "df[\"Type of Attack\"].replace(dict_of_Type_of_Attack,inplace = True)"
   ]
  },
  {
   "cell_type": "code",
   "execution_count": 40,
   "metadata": {},
   "outputs": [
    {
     "name": "stdout",
     "output_type": "stream",
     "text": [
      "Unknown Explosive Type  ==  0\n",
      "Automatic Weapon  ==  1\n",
      "Unknown Gun Type  ==  2\n",
      "Projectile (rockets, mortars, RPGs, etc.)  ==  3\n",
      "Vehicle  ==  4\n",
      "Sticky Bomb  ==  5\n",
      "Land Mine  ==  6\n",
      "Remote Trigger  ==  7\n",
      "Rifle/Shotgun (non-automatic)  ==  8\n",
      "Suicide (carried bodily by human being)  ==  9\n",
      "Molotov Cocktail/Petrol Bomb  ==  10\n",
      "Knife or Other Sharp Object  ==  11\n",
      "Unknown Weapon Type  ==  12\n",
      "Arson/Fire  ==  13\n",
      "Grenade  ==  14\n",
      "Handgun  ==  15\n",
      "Other Explosive Type  ==  16\n",
      "Pipe Bomb  ==  17\n",
      "Blunt Object  ==  18\n",
      "Dynamite/TNT  ==  19\n",
      "Rope or Other Strangling Device  ==  20\n",
      "Time Fuse  ==  21\n",
      "Hands, Feet, Fists  ==  22\n",
      "Explosive  ==  23\n",
      "Poisoning  ==  24\n",
      "Pressure Trigger  ==  25\n",
      "Suffocation  ==  26\n",
      "Gasoline or Alcohol  ==  27\n",
      "Other Gun Type  ==  28\n",
      "Letter Bomb  ==  29\n"
     ]
    }
   ],
   "source": [
    "dict_of_Weapon_Sub_type = dict()\n",
    "for i in range(len(df['Weapon Sub_type'].unique())):\n",
    "    dict_of_Weapon_Sub_type[df['Weapon Sub_type'].unique()[i]] = i\n",
    "    print(df['Weapon Sub_type'].unique()[i], \" == \", i)\n",
    "\n"
   ]
  },
  {
   "cell_type": "code",
   "execution_count": 41,
   "metadata": {},
   "outputs": [],
   "source": [
    "df[\"Weapon Sub_type\"].replace(dict_of_Weapon_Sub_type,inplace = True)\n"
   ]
  },
  {
   "cell_type": "code",
   "execution_count": 42,
   "metadata": {},
   "outputs": [
    {
     "name": "stdout",
     "output_type": "stream",
     "text": [
      "Explosives/Bombs/Dynamite  ==  0\n",
      "Firearms  ==  1\n",
      "Incendiary  ==  2\n",
      "Melee  ==  3\n",
      "Chemical  ==  4\n",
      "Sabotage Equipment  ==  5\n",
      "Vehicle (not to include vehicle-borne explosives, i.e., car or truck bombs)  ==  6\n",
      "Other  ==  7\n",
      "Biological  ==  8\n"
     ]
    }
   ],
   "source": [
    "dict_of_Weapon_Type = dict()\n",
    "for i in range(len(df['Weapon Type'].unique())):\n",
    "    dict_of_Weapon_Type[df['Weapon Type'].unique()[i]] = i\n",
    "    print(df['Weapon Type'].unique()[i], \" == \", i)"
   ]
  },
  {
   "cell_type": "code",
   "execution_count": 43,
   "metadata": {},
   "outputs": [],
   "source": [
    "df[\"Weapon Type\"].replace(dict_of_Weapon_Type,inplace = True)"
   ]
  },
  {
   "cell_type": "code",
   "execution_count": 44,
   "metadata": {},
   "outputs": [
    {
     "name": "stdout",
     "output_type": "stream",
     "text": [
      "Iraq  ==  0\n",
      "Syria  ==  1\n",
      "Yemen  ==  2\n",
      "Egypt  ==  3\n",
      "Saudi Arabia  ==  4\n",
      "Israel  ==  5\n",
      "Libya  ==  6\n",
      "West Bank and Gaza Strip  ==  7\n",
      "Turkey  ==  8\n",
      "Lebanon  ==  9\n",
      "Jordan  ==  10\n",
      "Tunisia  ==  11\n",
      "Iran  ==  12\n",
      "Morocco  ==  13\n",
      "Algeria  ==  14\n",
      "Western Sahara  ==  15\n",
      "Bahrain  ==  16\n",
      "Kuwait  ==  17\n",
      "Qatar  ==  18\n",
      "United Arab Emirates  ==  19\n"
     ]
    }
   ],
   "source": [
    "dict_of_COUNTRY = dict()\n",
    "for i in range(len(df['COUNTRY'].unique())):\n",
    "    dict_of_COUNTRY[df['COUNTRY'].unique()[i]] = i\n",
    "    print(df['COUNTRY'].unique()[i], \" == \", i)                    "
   ]
  },
  {
   "cell_type": "code",
   "execution_count": 45,
   "metadata": {},
   "outputs": [],
   "source": [
    "df[\"COUNTRY\"].replace(dict_of_COUNTRY,inplace = True)"
   ]
  },
  {
   "cell_type": "markdown",
   "metadata": {},
   "source": [
    "    I used the datetime library to convert each date into a unique numeric value for the dates column."
   ]
  },
  {
   "cell_type": "code",
   "execution_count": 46,
   "metadata": {},
   "outputs": [],
   "source": [
    "for row in range(df.shape[0]):\n",
    "    date_time_str = df[\"DATE\"][row]\n",
    "    date = datetime.strptime(date_time_str[2:], '%y-%m-%d')\n",
    "    df[\"DATE\"][row] = datetime.timestamp(date)\n",
    "    \n"
   ]
  },
  {
   "cell_type": "code",
   "execution_count": 47,
   "metadata": {},
   "outputs": [
    {
     "name": "stdout",
     "output_type": "stream",
     "text": [
      "<class 'pandas.core.frame.DataFrame'>\n",
      "RangeIndex: 28614 entries, 0 to 28613\n",
      "Data columns (total 25 columns):\n",
      "CITY                                         28614 non-null object\n",
      "COUNTRY                                      28614 non-null int64\n",
      "Claimed Responsibility                       28614 non-null int64\n",
      "DATE                                         28614 non-null float64\n",
      "FATALITIES                                   28614 non-null int64\n",
      "Group Name of Perpetrator Group              14608 non-null object\n",
      "Hostages                                     28614 non-null float64\n",
      "INJURED                                      28614 non-null int64\n",
      "LOCATION DETAILS                             13153 non-null object\n",
      "Name of Entity                               28614 non-null object\n",
      "Nationality of Target                        28614 non-null object\n",
      "Number of Perpetrator Fatalities             28614 non-null int64\n",
      "PERPETRATOR GROUP                            14608 non-null object\n",
      "PROVINCE/ADMINISTRATIVE REGION/U.S. STATE    28614 non-null object\n",
      "Property Damage                              28614 non-null int64\n",
      "Ransom                                       28614 non-null float64\n",
      "Specific Description                         28614 non-null object\n",
      "Successful Attack?                           28614 non-null int64\n",
      "Suicide_Attack                               28614 non-null int64\n",
      "TARGET TYPE                                  28614 non-null object\n",
      "Type of Attack                               28614 non-null int64\n",
      "Weapon Sub_type                              28614 non-null int64\n",
      "Weapon Type                                  28614 non-null int64\n",
      "latitude                                     28614 non-null float64\n",
      "longitude                                    28614 non-null float64\n",
      "dtypes: float64(5), int64(11), object(9)\n",
      "memory usage: 5.5+ MB\n"
     ]
    }
   ],
   "source": [
    "df.info()"
   ]
  },
  {
   "cell_type": "code",
   "execution_count": 48,
   "metadata": {},
   "outputs": [
    {
     "data": {
      "text/html": [
       "<div>\n",
       "<style scoped>\n",
       "    .dataframe tbody tr th:only-of-type {\n",
       "        vertical-align: middle;\n",
       "    }\n",
       "\n",
       "    .dataframe tbody tr th {\n",
       "        vertical-align: top;\n",
       "    }\n",
       "\n",
       "    .dataframe thead th {\n",
       "        text-align: right;\n",
       "    }\n",
       "</style>\n",
       "<table border=\"1\" class=\"dataframe\">\n",
       "  <thead>\n",
       "    <tr style=\"text-align: right;\">\n",
       "      <th></th>\n",
       "      <th>CITY</th>\n",
       "      <th>COUNTRY</th>\n",
       "      <th>Claimed Responsibility</th>\n",
       "      <th>DATE</th>\n",
       "      <th>FATALITIES</th>\n",
       "      <th>Group Name of Perpetrator Group</th>\n",
       "      <th>Hostages</th>\n",
       "      <th>INJURED</th>\n",
       "      <th>LOCATION DETAILS</th>\n",
       "      <th>Name of Entity</th>\n",
       "      <th>...</th>\n",
       "      <th>Ransom</th>\n",
       "      <th>Specific Description</th>\n",
       "      <th>Successful Attack?</th>\n",
       "      <th>Suicide_Attack</th>\n",
       "      <th>TARGET TYPE</th>\n",
       "      <th>Type of Attack</th>\n",
       "      <th>Weapon Sub_type</th>\n",
       "      <th>Weapon Type</th>\n",
       "      <th>latitude</th>\n",
       "      <th>longitude</th>\n",
       "    </tr>\n",
       "  </thead>\n",
       "  <tbody>\n",
       "    <tr>\n",
       "      <th>count</th>\n",
       "      <td>28614</td>\n",
       "      <td>28614.000000</td>\n",
       "      <td>28614.000000</td>\n",
       "      <td>2.861400e+04</td>\n",
       "      <td>28614.000000</td>\n",
       "      <td>14608</td>\n",
       "      <td>28614.000000</td>\n",
       "      <td>28614.000000</td>\n",
       "      <td>13153</td>\n",
       "      <td>28614</td>\n",
       "      <td>...</td>\n",
       "      <td>28614.000000</td>\n",
       "      <td>28614</td>\n",
       "      <td>28614.000000</td>\n",
       "      <td>28614.000000</td>\n",
       "      <td>28614</td>\n",
       "      <td>28614.00000</td>\n",
       "      <td>28614.000000</td>\n",
       "      <td>28614.000000</td>\n",
       "      <td>28614.000000</td>\n",
       "      <td>28614.000000</td>\n",
       "    </tr>\n",
       "    <tr>\n",
       "      <th>unique</th>\n",
       "      <td>4520</td>\n",
       "      <td>NaN</td>\n",
       "      <td>NaN</td>\n",
       "      <td>NaN</td>\n",
       "      <td>NaN</td>\n",
       "      <td>307</td>\n",
       "      <td>NaN</td>\n",
       "      <td>NaN</td>\n",
       "      <td>8692</td>\n",
       "      <td>3949</td>\n",
       "      <td>...</td>\n",
       "      <td>NaN</td>\n",
       "      <td>6115</td>\n",
       "      <td>NaN</td>\n",
       "      <td>NaN</td>\n",
       "      <td>244</td>\n",
       "      <td>NaN</td>\n",
       "      <td>NaN</td>\n",
       "      <td>NaN</td>\n",
       "      <td>NaN</td>\n",
       "      <td>NaN</td>\n",
       "    </tr>\n",
       "    <tr>\n",
       "      <th>top</th>\n",
       "      <td>Baghdad</td>\n",
       "      <td>NaN</td>\n",
       "      <td>NaN</td>\n",
       "      <td>NaN</td>\n",
       "      <td>NaN</td>\n",
       "      <td>Islamic State of Iraq and the Levant (ISIL)</td>\n",
       "      <td>NaN</td>\n",
       "      <td>NaN</td>\n",
       "      <td>The incident occurred in the Balad Ruz district.</td>\n",
       "      <td>Not Applicable</td>\n",
       "      <td>...</td>\n",
       "      <td>NaN</td>\n",
       "      <td>Civilians</td>\n",
       "      <td>NaN</td>\n",
       "      <td>NaN</td>\n",
       "      <td>Private Citizens &amp; Property</td>\n",
       "      <td>NaN</td>\n",
       "      <td>NaN</td>\n",
       "      <td>NaN</td>\n",
       "      <td>NaN</td>\n",
       "      <td>NaN</td>\n",
       "    </tr>\n",
       "    <tr>\n",
       "      <th>freq</th>\n",
       "      <td>3703</td>\n",
       "      <td>NaN</td>\n",
       "      <td>NaN</td>\n",
       "      <td>NaN</td>\n",
       "      <td>NaN</td>\n",
       "      <td>5885</td>\n",
       "      <td>NaN</td>\n",
       "      <td>NaN</td>\n",
       "      <td>55</td>\n",
       "      <td>12719</td>\n",
       "      <td>...</td>\n",
       "      <td>NaN</td>\n",
       "      <td>5367</td>\n",
       "      <td>NaN</td>\n",
       "      <td>NaN</td>\n",
       "      <td>11176</td>\n",
       "      <td>NaN</td>\n",
       "      <td>NaN</td>\n",
       "      <td>NaN</td>\n",
       "      <td>NaN</td>\n",
       "      <td>NaN</td>\n",
       "    </tr>\n",
       "    <tr>\n",
       "      <th>mean</th>\n",
       "      <td>NaN</td>\n",
       "      <td>2.031628</td>\n",
       "      <td>0.627036</td>\n",
       "      <td>1.459446e+09</td>\n",
       "      <td>2.820927</td>\n",
       "      <td>NaN</td>\n",
       "      <td>0.079262</td>\n",
       "      <td>3.373454</td>\n",
       "      <td>NaN</td>\n",
       "      <td>NaN</td>\n",
       "      <td>...</td>\n",
       "      <td>0.002586</td>\n",
       "      <td>NaN</td>\n",
       "      <td>0.843573</td>\n",
       "      <td>0.082792</td>\n",
       "      <td>NaN</td>\n",
       "      <td>0.79503</td>\n",
       "      <td>2.949151</td>\n",
       "      <td>0.307227</td>\n",
       "      <td>30.782069</td>\n",
       "      <td>39.815550</td>\n",
       "    </tr>\n",
       "    <tr>\n",
       "      <th>std</th>\n",
       "      <td>NaN</td>\n",
       "      <td>2.862513</td>\n",
       "      <td>1.453982</td>\n",
       "      <td>5.084451e+07</td>\n",
       "      <td>15.327379</td>\n",
       "      <td>NaN</td>\n",
       "      <td>0.270152</td>\n",
       "      <td>12.999723</td>\n",
       "      <td>NaN</td>\n",
       "      <td>NaN</td>\n",
       "      <td>...</td>\n",
       "      <td>0.050789</td>\n",
       "      <td>NaN</td>\n",
       "      <td>0.363266</td>\n",
       "      <td>0.275572</td>\n",
       "      <td>NaN</td>\n",
       "      <td>1.33175</td>\n",
       "      <td>3.997059</td>\n",
       "      <td>0.707988</td>\n",
       "      <td>7.064758</td>\n",
       "      <td>8.798183</td>\n",
       "    </tr>\n",
       "    <tr>\n",
       "      <th>min</th>\n",
       "      <td>NaN</td>\n",
       "      <td>0.000000</td>\n",
       "      <td>0.000000</td>\n",
       "      <td>1.381784e+09</td>\n",
       "      <td>0.000000</td>\n",
       "      <td>NaN</td>\n",
       "      <td>0.000000</td>\n",
       "      <td>0.000000</td>\n",
       "      <td>NaN</td>\n",
       "      <td>NaN</td>\n",
       "      <td>...</td>\n",
       "      <td>0.000000</td>\n",
       "      <td>NaN</td>\n",
       "      <td>0.000000</td>\n",
       "      <td>0.000000</td>\n",
       "      <td>NaN</td>\n",
       "      <td>0.00000</td>\n",
       "      <td>0.000000</td>\n",
       "      <td>0.000000</td>\n",
       "      <td>-28.725386</td>\n",
       "      <td>-84.284113</td>\n",
       "    </tr>\n",
       "    <tr>\n",
       "      <th>25%</th>\n",
       "      <td>NaN</td>\n",
       "      <td>0.000000</td>\n",
       "      <td>0.000000</td>\n",
       "      <td>1.416024e+09</td>\n",
       "      <td>0.000000</td>\n",
       "      <td>NaN</td>\n",
       "      <td>0.000000</td>\n",
       "      <td>0.000000</td>\n",
       "      <td>NaN</td>\n",
       "      <td>NaN</td>\n",
       "      <td>...</td>\n",
       "      <td>0.000000</td>\n",
       "      <td>NaN</td>\n",
       "      <td>1.000000</td>\n",
       "      <td>0.000000</td>\n",
       "      <td>NaN</td>\n",
       "      <td>0.00000</td>\n",
       "      <td>0.000000</td>\n",
       "      <td>0.000000</td>\n",
       "      <td>31.444729</td>\n",
       "      <td>36.254771</td>\n",
       "    </tr>\n",
       "    <tr>\n",
       "      <th>50%</th>\n",
       "      <td>NaN</td>\n",
       "      <td>0.000000</td>\n",
       "      <td>0.000000</td>\n",
       "      <td>1.454105e+09</td>\n",
       "      <td>1.000000</td>\n",
       "      <td>NaN</td>\n",
       "      <td>0.000000</td>\n",
       "      <td>1.000000</td>\n",
       "      <td>NaN</td>\n",
       "      <td>NaN</td>\n",
       "      <td>...</td>\n",
       "      <td>0.000000</td>\n",
       "      <td>NaN</td>\n",
       "      <td>1.000000</td>\n",
       "      <td>0.000000</td>\n",
       "      <td>NaN</td>\n",
       "      <td>0.00000</td>\n",
       "      <td>2.000000</td>\n",
       "      <td>0.000000</td>\n",
       "      <td>33.302431</td>\n",
       "      <td>43.644167</td>\n",
       "    </tr>\n",
       "    <tr>\n",
       "      <th>75%</th>\n",
       "      <td>NaN</td>\n",
       "      <td>3.000000</td>\n",
       "      <td>0.000000</td>\n",
       "      <td>1.495228e+09</td>\n",
       "      <td>2.000000</td>\n",
       "      <td>NaN</td>\n",
       "      <td>0.000000</td>\n",
       "      <td>4.000000</td>\n",
       "      <td>NaN</td>\n",
       "      <td>NaN</td>\n",
       "      <td>...</td>\n",
       "      <td>0.000000</td>\n",
       "      <td>NaN</td>\n",
       "      <td>1.000000</td>\n",
       "      <td>0.000000</td>\n",
       "      <td>NaN</td>\n",
       "      <td>2.00000</td>\n",
       "      <td>4.000000</td>\n",
       "      <td>0.000000</td>\n",
       "      <td>34.186303</td>\n",
       "      <td>44.378799</td>\n",
       "    </tr>\n",
       "    <tr>\n",
       "      <th>max</th>\n",
       "      <td>NaN</td>\n",
       "      <td>19.000000</td>\n",
       "      <td>9.000000</td>\n",
       "      <td>1.577743e+09</td>\n",
       "      <td>1570.000000</td>\n",
       "      <td>NaN</td>\n",
       "      <td>1.000000</td>\n",
       "      <td>1500.000000</td>\n",
       "      <td>NaN</td>\n",
       "      <td>NaN</td>\n",
       "      <td>...</td>\n",
       "      <td>1.000000</td>\n",
       "      <td>NaN</td>\n",
       "      <td>1.000000</td>\n",
       "      <td>1.000000</td>\n",
       "      <td>NaN</td>\n",
       "      <td>7.00000</td>\n",
       "      <td>29.000000</td>\n",
       "      <td>8.000000</td>\n",
       "      <td>60.157381</td>\n",
       "      <td>121.022490</td>\n",
       "    </tr>\n",
       "  </tbody>\n",
       "</table>\n",
       "<p>11 rows × 25 columns</p>\n",
       "</div>"
      ],
      "text/plain": [
       "           CITY       COUNTRY  Claimed Responsibility          DATE  \\\n",
       "count     28614  28614.000000            28614.000000  2.861400e+04   \n",
       "unique     4520           NaN                     NaN           NaN   \n",
       "top     Baghdad           NaN                     NaN           NaN   \n",
       "freq       3703           NaN                     NaN           NaN   \n",
       "mean        NaN      2.031628                0.627036  1.459446e+09   \n",
       "std         NaN      2.862513                1.453982  5.084451e+07   \n",
       "min         NaN      0.000000                0.000000  1.381784e+09   \n",
       "25%         NaN      0.000000                0.000000  1.416024e+09   \n",
       "50%         NaN      0.000000                0.000000  1.454105e+09   \n",
       "75%         NaN      3.000000                0.000000  1.495228e+09   \n",
       "max         NaN     19.000000                9.000000  1.577743e+09   \n",
       "\n",
       "          FATALITIES              Group Name of Perpetrator Group  \\\n",
       "count   28614.000000                                        14608   \n",
       "unique           NaN                                          307   \n",
       "top              NaN  Islamic State of Iraq and the Levant (ISIL)   \n",
       "freq             NaN                                         5885   \n",
       "mean        2.820927                                          NaN   \n",
       "std        15.327379                                          NaN   \n",
       "min         0.000000                                          NaN   \n",
       "25%         0.000000                                          NaN   \n",
       "50%         1.000000                                          NaN   \n",
       "75%         2.000000                                          NaN   \n",
       "max      1570.000000                                          NaN   \n",
       "\n",
       "            Hostages       INJURED  \\\n",
       "count   28614.000000  28614.000000   \n",
       "unique           NaN           NaN   \n",
       "top              NaN           NaN   \n",
       "freq             NaN           NaN   \n",
       "mean        0.079262      3.373454   \n",
       "std         0.270152     12.999723   \n",
       "min         0.000000      0.000000   \n",
       "25%         0.000000      0.000000   \n",
       "50%         0.000000      1.000000   \n",
       "75%         0.000000      4.000000   \n",
       "max         1.000000   1500.000000   \n",
       "\n",
       "                                        LOCATION DETAILS  Name of Entity  \\\n",
       "count                                              13153           28614   \n",
       "unique                                              8692            3949   \n",
       "top     The incident occurred in the Balad Ruz district.  Not Applicable   \n",
       "freq                                                  55           12719   \n",
       "mean                                                 NaN             NaN   \n",
       "std                                                  NaN             NaN   \n",
       "min                                                  NaN             NaN   \n",
       "25%                                                  NaN             NaN   \n",
       "50%                                                  NaN             NaN   \n",
       "75%                                                  NaN             NaN   \n",
       "max                                                  NaN             NaN   \n",
       "\n",
       "            ...             Ransom  Specific Description Successful Attack?  \\\n",
       "count       ...       28614.000000                 28614       28614.000000   \n",
       "unique      ...                NaN                  6115                NaN   \n",
       "top         ...                NaN             Civilians                NaN   \n",
       "freq        ...                NaN                  5367                NaN   \n",
       "mean        ...           0.002586                   NaN           0.843573   \n",
       "std         ...           0.050789                   NaN           0.363266   \n",
       "min         ...           0.000000                   NaN           0.000000   \n",
       "25%         ...           0.000000                   NaN           1.000000   \n",
       "50%         ...           0.000000                   NaN           1.000000   \n",
       "75%         ...           0.000000                   NaN           1.000000   \n",
       "max         ...           1.000000                   NaN           1.000000   \n",
       "\n",
       "       Suicide_Attack                  TARGET TYPE  Type of Attack  \\\n",
       "count    28614.000000                        28614     28614.00000   \n",
       "unique            NaN                          244             NaN   \n",
       "top               NaN  Private Citizens & Property             NaN   \n",
       "freq              NaN                        11176             NaN   \n",
       "mean         0.082792                          NaN         0.79503   \n",
       "std          0.275572                          NaN         1.33175   \n",
       "min          0.000000                          NaN         0.00000   \n",
       "25%          0.000000                          NaN         0.00000   \n",
       "50%          0.000000                          NaN         0.00000   \n",
       "75%          0.000000                          NaN         2.00000   \n",
       "max          1.000000                          NaN         7.00000   \n",
       "\n",
       "       Weapon Sub_type   Weapon Type      latitude     longitude  \n",
       "count     28614.000000  28614.000000  28614.000000  28614.000000  \n",
       "unique             NaN           NaN           NaN           NaN  \n",
       "top                NaN           NaN           NaN           NaN  \n",
       "freq               NaN           NaN           NaN           NaN  \n",
       "mean          2.949151      0.307227     30.782069     39.815550  \n",
       "std           3.997059      0.707988      7.064758      8.798183  \n",
       "min           0.000000      0.000000    -28.725386    -84.284113  \n",
       "25%           0.000000      0.000000     31.444729     36.254771  \n",
       "50%           2.000000      0.000000     33.302431     43.644167  \n",
       "75%           4.000000      0.000000     34.186303     44.378799  \n",
       "max          29.000000      8.000000     60.157381    121.022490  \n",
       "\n",
       "[11 rows x 25 columns]"
      ]
     },
     "execution_count": 48,
     "metadata": {},
     "output_type": "execute_result"
    }
   ],
   "source": [
    "df.describe(include='all')"
   ]
  },
  {
   "cell_type": "markdown",
   "metadata": {},
   "source": [
    "    I'm going to save the new table in CSV format right now."
   ]
  },
  {
   "cell_type": "code",
   "execution_count": 49,
   "metadata": {},
   "outputs": [],
   "source": [
    "df.to_csv('data_of_terrorism_after_cleaning.csv')\n"
   ]
  }
 ],
 "metadata": {
  "kernelspec": {
   "display_name": "Python 3",
   "language": "python",
   "name": "python3"
  },
  "language_info": {
   "codemirror_mode": {
    "name": "ipython",
    "version": 3
   },
   "file_extension": ".py",
   "mimetype": "text/x-python",
   "name": "python",
   "nbconvert_exporter": "python",
   "pygments_lexer": "ipython3",
   "version": "3.5.5"
  }
 },
 "nbformat": 4,
 "nbformat_minor": 2
}
